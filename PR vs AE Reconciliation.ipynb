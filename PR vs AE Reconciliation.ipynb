{
 "cells": [
  {
   "cell_type": "markdown",
   "id": "9b46243f",
   "metadata": {},
   "source": [
    "# Concomitant Procedures vs Adverse Event Reconciliation using GPT"
   ]
  },
  {
   "cell_type": "code",
   "execution_count": 1,
   "id": "9e4dfc9a",
   "metadata": {},
   "outputs": [
    {
     "name": "stdout",
     "output_type": "stream",
     "text": [
      "········\n"
     ]
    }
   ],
   "source": [
    "# Import the necessary libraries, modules and functions:\n",
    "import pandas as pd\n",
    "import numpy as np\n",
    "import openai\n",
    "from openai.embeddings_utils import get_embedding\n",
    "from openai.embeddings_utils import cosine_similarity\n",
    "from datetime import datetime\n",
    "from getpass import getpass\n",
    "\n",
    "# Prompt to enter OpenAI API key:\n",
    "openai.api_key = getpass()"
   ]
  },
  {
   "cell_type": "code",
   "execution_count": 2,
   "id": "0daad854",
   "metadata": {},
   "outputs": [],
   "source": [
    "# Load the PR dataset as a dataframe, showing only the necessary columns for the reconciliation:\n",
    "dtypes1 = {'CENTRE': str, 'SUBJECT_ID': str, 'FORM_OCCURENCE': str, 'PRTRT': str, 'PRINDC': str, 'PRINDC_CAT': str, 'PRDAT': str}\n",
    "df1 = pd.read_csv('Input (EDC Datasets)\\PR.csv', dtype = dtypes1)\n",
    "df1 = df1[['CENTRE', 'SUBJECT_ID', 'FORM_OCCURENCE', 'PRTRT', 'PRINDC', 'PRINDC_CAT', 'PRDAT']]\n",
    "df1 = df1.rename(columns = {'FORM_OCCURENCE': 'PR#'})\n",
    "\n",
    "# Filter the PR dataframe so that it only contains PRs where the indication category is 'AE' and fill all empty PRINDC fields\n",
    "# with a blank space so the 'get_embedding' function won't throw an error later on:\n",
    "df1 = df1[df1['PRINDC_CAT'] == 'AE'].reset_index(drop = True)\n",
    "df1['PRINDC'] = df1['PRINDC'].fillna(\" \")\n",
    "\n",
    "# Fill all blank PR dates with a dummy date so that the later date comparison functions won't throw an error:\n",
    "df1['PRDAT'] = df1['PRDAT'].fillna('01/01/0001')\n",
    "\n",
    "# Convert the PR date string format to a format the later date comparison functions will accept. You may need to tweak this\n",
    "# based on your specific scenario and input dataset:\n",
    "df1['PRDAT'] = df1['PRDAT'].apply(lambda x: '-'.join([i.zfill(2) for i in x.split('/')[::-1][::-1]]))\n",
    "\n",
    "# Get the LLM vector embeddings for all PR indications. Vector embeddings are numerical representations of the underlying\n",
    "# meaning (semantics) of natural language. This allows the program to perform computations on free text entries in the PR\n",
    "# indication field. With the code below, only a list of isolated PR indications will be sent to OpenAI, with no other context:\n",
    "df1['PRINDC_Embedding'] = df1['PRINDC'].apply(lambda x: get_embedding(x, engine = 'text-embedding-ada-002'))\n",
    "\n",
    "# Load the AE dataset as a dataframe, showing only the necessary columns for the reconciliation:\n",
    "dtypes2 = {'CENTRE': str, 'SUBJECT_ID': str, 'FORM_OCCURENCE': str, 'AETERM': str, 'AESTDAT': str, 'AEONGO': str, 'AEENDAT': str, 'AEACNOTH_PROC': str}\n",
    "df2 = pd.read_csv('Input (EDC Datasets)\\AE.csv', dtype = dtypes2)\n",
    "df2 = df2[['CENTRE', 'SUBJECT_ID', 'FORM_OCCURENCE', 'AETERM', 'AESTDAT', 'AEONGO', 'AEENDAT', 'AEACNOTH_PROC']]\n",
    "df2 = df2.rename(columns = {'FORM_OCCURENCE': 'AE#'})\n",
    "\n",
    "# Filter the AE dataframe so that it only contains AEs where other action taken is 'procedure' and drop rows where the AETERM\n",
    "# is empty:\n",
    "df2 = df2[df2['AEACNOTH_PROC'] == '1'].dropna(subset = ['AETERM']).reset_index(drop = True)\n",
    "df2['AEACNOTH_PROC'] = 'Y'\n",
    "\n",
    "# Fill all blank AE start and end dates to their theoretical extremes. Missing data edit checks in the EDC will generally avoid\n",
    "# the need for this, however blank dates may still occur on occasion. This allows column-wise date comparisons to still compute\n",
    "# later on without error if blank dates are present:\n",
    "df2['AESTDAT'] = df2['AESTDAT'].fillna('01/01/0001')\n",
    "df2['AEENDAT'] = df2['AEENDAT'].fillna('31/12/9999')\n",
    "\n",
    "# Convert the AE date string formats to a format the later date comparison functions will accept. You may need to tweak this\n",
    "# based on your specific scenario and input dataset formats:\n",
    "df2['AESTDAT'] = df2['AESTDAT'].apply(lambda x: '-'.join([i.zfill(2) for i in x.split('/')[::-1][::-1]]))\n",
    "df2['AEENDAT'] = df2['AEENDAT'].apply(lambda x: '-'.join([i.zfill(2) for i in x.split('/')[::-1][::-1]]))\n",
    "\n",
    "# Get the LLM vector embeddings for all AE terms. Vector embeddings are numerical representations of the underlying meaning\n",
    "# (semantics) of natural language. This allows the program to perform computations on free text entries in the AE term field.\n",
    "# With the code below, only a list of isolated AE terms will be sent to OpenAI, with no other context:\n",
    "df2['AETERM_Embedding'] = df2['AETERM'].apply(lambda x: get_embedding(x, engine = 'text-embedding-ada-002'))\n",
    "\n",
    "# Perform a left join on the PR (left) and AE (right) dataframes using Centre and Subject_ID as the keys. This combines the PR\n",
    "# and AE data into a single dataframe, providing all pairwise combinations of PRs and AEs side-by-side within each subject:\n",
    "df3 = pd.merge(df1, df2, on = ['CENTRE', 'SUBJECT_ID'], how = 'left')\n",
    "\n",
    "# Calculate the cosine similarity between the PR indication and AE term embedding vectors. This represents the difference in\n",
    "# angle between the PR indication and AE term embedding vectors in n-dimensional space and numerically represents the semantic\n",
    "# similarity between the two pieces of text:\n",
    "df3['Similarity'] = df3.apply(lambda row: cosine_similarity(row['PRINDC_Embedding'], row['AETERM_Embedding']) if pd.notnull(row['AE#']) else 0, axis = 1)\n",
    "\n",
    "# Identify all PR-AE pairs where the cosine similarity is sufficiently high to indicate a semantic match. Tweak the similarity\n",
    "# threshold to meet your specific needs:\n",
    "df3['Similarity_Match'] = df3['Similarity'] >= 0.95"
   ]
  },
  {
   "cell_type": "code",
   "execution_count": 3,
   "id": "9554eaa8",
   "metadata": {},
   "outputs": [],
   "source": [
    "# Define a function to check if a known date falls within a specified known date range. This function is used to check if the\n",
    "# PR date falls within the timeframe of each AE. It requires the input date strings to be in dd-mm-yyyy format (e.g. 01-01-2023).\n",
    "# The function yields a True or False result according to: start_date <= date <= end_date:\n",
    "\n",
    "def is_within_range(start_date_str, end_date_str, date_str):\n",
    "    date_format = \"%d-%m-%Y\"\n",
    "    \n",
    "    try:\n",
    "        date = datetime.strptime(date_str, date_format)\n",
    "        start_date = datetime.strptime(start_date_str, date_format)\n",
    "        end_date = datetime.strptime(end_date_str, date_format)\n",
    "        \n",
    "        if start_date <= date <= end_date:\n",
    "            return True\n",
    "        \n",
    "        return False\n",
    "    except ValueError:\n",
    "        return False"
   ]
  },
  {
   "cell_type": "code",
   "execution_count": 4,
   "id": "8a2f858c",
   "metadata": {},
   "outputs": [],
   "source": [
    "# Fill any post-merge 'NaN' AE dates with a dummy date so that the 'is_within_range' function won't throw an error:\n",
    "df3['AESTDAT'] = df3['AESTDAT'].fillna('01-01-0001')\n",
    "df3['AEENDAT'] = df3['AEENDAT'].fillna('01-01-0001')\n",
    "\n",
    "if not df3.empty:\n",
    "    \n",
    "    # Determine if the PR date is within the timeframe of each AE by applying the 'is_within_range' function:\n",
    "    df3['PRDAT_Within_Range'] = df3.apply(lambda row: is_within_range(row['AESTDAT'], row['AEENDAT'], row['PRDAT']), axis=1)"
   ]
  },
  {
   "cell_type": "code",
   "execution_count": 5,
   "id": "bc3ba85e",
   "metadata": {},
   "outputs": [
    {
     "data": {
      "text/html": [
       "<div>\n",
       "<style scoped>\n",
       "    .dataframe tbody tr th:only-of-type {\n",
       "        vertical-align: middle;\n",
       "    }\n",
       "\n",
       "    .dataframe tbody tr th {\n",
       "        vertical-align: top;\n",
       "    }\n",
       "\n",
       "    .dataframe thead th {\n",
       "        text-align: right;\n",
       "    }\n",
       "</style>\n",
       "<table border=\"1\" class=\"dataframe\">\n",
       "  <thead>\n",
       "    <tr style=\"text-align: right;\">\n",
       "      <th></th>\n",
       "      <th>CENTRE</th>\n",
       "      <th>SUBJECT_ID</th>\n",
       "      <th>PR#</th>\n",
       "      <th>PRTRT</th>\n",
       "      <th>PRINDC</th>\n",
       "      <th>PRINDC_CAT</th>\n",
       "      <th>ISSUE_DESCRIPTION</th>\n",
       "    </tr>\n",
       "  </thead>\n",
       "  <tbody>\n",
       "    <tr>\n",
       "      <th>0</th>\n",
       "      <td>999</td>\n",
       "      <td>S007</td>\n",
       "      <td>1</td>\n",
       "      <td>Valvuloplasty</td>\n",
       "      <td>Heart disease</td>\n",
       "      <td>AE</td>\n",
       "      <td>Matching event term ('Action Taken' = 'Procedu...</td>\n",
       "    </tr>\n",
       "  </tbody>\n",
       "</table>\n",
       "</div>"
      ],
      "text/plain": [
       "  CENTRE SUBJECT_ID PR#          PRTRT         PRINDC PRINDC_CAT   \n",
       "0    999       S007   1  Valvuloplasty  Heart disease         AE  \\\n",
       "\n",
       "                                   ISSUE_DESCRIPTION  \n",
       "0  Matching event term ('Action Taken' = 'Procedu...  "
      ]
     },
     "execution_count": 5,
     "metadata": {},
     "output_type": "execute_result"
    }
   ],
   "source": [
    "if not df3.empty:\n",
    "    \n",
    "    # Determine if the PR indication and AE term semantically match AND the PR date is within the AE timeframe. If both of these\n",
    "    # conditions are met, then the 'Entire_Match' column value is True, otherwise it is False:\n",
    "    df3['Entire_Match'] = df3['Similarity_Match'] & df3['PRDAT_Within_Range']\n",
    "    \n",
    "    # Determine if each Subject-PR grouping has a fully reconciling AE present. If a reconciling AE is present, then the\n",
    "    # 'Entire_Match_Grouped' column value is True, otherwise it is False:\n",
    "    df3['Entire_Match_Grouped'] = df3.groupby(['CENTRE', 'SUBJECT_ID', 'PR#', 'PRTRT', 'PRINDC'])['Entire_Match'].transform(lambda x: True if x.sum() else False)\n",
    "    \n",
    "    # Filter the dataframe so that it contains only Subject-PRs that don't have a fully reconciling AE present:\n",
    "    df4 = df3[df3['Entire_Match_Grouped'] == False].reset_index(drop = True)\n",
    "    \n",
    "    # Determine if the Subject-PRs that don't have a fully reconciling AE present, have at least one semantically matching AE\n",
    "    # term present (i.e. partial reconciliation of AE term, but not dates). If a partially reconciling AE is present, then the\n",
    "    # 'Similarity_Match_Grouped' column value is True, otherwise it is False:\n",
    "    df4['Similarity_Match_Grouped'] = df4.groupby(['CENTRE', 'SUBJECT_ID', 'PR#', 'PRTRT', 'PRINDC'])['Similarity_Match'].transform(lambda x: True if x.sum() else False)\n",
    "    \n",
    "    if not df4.empty:\n",
    "        \n",
    "        # Create a new column called 'ISSUE_DESCRIPTION' containing a descriptive message for the check's output which depends\n",
    "        # upon the value in the 'Similarity_Match_Grouped' column:\n",
    "        df4.loc[df4['Similarity_Match_Grouped'] == True, 'ISSUE_DESCRIPTION'] = \"Matching event term ('Action Taken' = 'Procedure') found in AE, but dates inconsistent\"\n",
    "        df4.loc[df4['Similarity_Match_Grouped'] == False, 'ISSUE_DESCRIPTION'] = \"Matching event term ('Action Taken' = 'Procedure') not found in AE\"\n",
    "        \n",
    "        # Show only the unique Subject-PRs for which there are flagged reconciliation issues:\n",
    "        df5 = df4.groupby(['CENTRE', 'SUBJECT_ID', 'PR#', 'PRTRT', 'PRINDC', 'PRINDC_CAT', 'ISSUE_DESCRIPTION'], as_index = False).agg({'AE#': 'count'}).drop('AE#', axis = 1)\n",
    "        \n",
    "    else:\n",
    "        df5 = pd.DataFrame({\"No Issues Found\": []})\n",
    "else:\n",
    "    df5 = pd.DataFrame({\"No Issues Found\": []})\n",
    "df5"
   ]
  },
  {
   "cell_type": "code",
   "execution_count": 6,
   "id": "b2763161",
   "metadata": {},
   "outputs": [],
   "source": [
    "# Lastly, export the output to an excel spreadsheet:\n",
    "df5.to_excel('Output\\PR vs AE Reconciliation Output.xlsx', sheet_name = 'PR vs AE Reconciliation', startrow = 0, startcol = 0, index = False, na_rep = '', header = True)"
   ]
  },
  {
   "cell_type": "code",
   "execution_count": null,
   "id": "d7ef79f1",
   "metadata": {},
   "outputs": [],
   "source": []
  }
 ],
 "metadata": {
  "kernelspec": {
   "display_name": "Python 3 (ipykernel)",
   "language": "python",
   "name": "python3"
  },
  "language_info": {
   "codemirror_mode": {
    "name": "ipython",
    "version": 3
   },
   "file_extension": ".py",
   "mimetype": "text/x-python",
   "name": "python",
   "nbconvert_exporter": "python",
   "pygments_lexer": "ipython3",
   "version": "3.11.1"
  }
 },
 "nbformat": 4,
 "nbformat_minor": 5
}
